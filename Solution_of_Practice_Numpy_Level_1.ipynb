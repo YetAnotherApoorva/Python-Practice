{
  "nbformat": 4,
  "nbformat_minor": 0,
  "metadata": {
    "colab": {
      "provenance": []
    },
    "kernelspec": {
      "name": "python3",
      "display_name": "Python 3"
    },
    "language_info": {
      "name": "python"
    }
  },
  "cells": [
    {
      "cell_type": "markdown",
      "source": [
        "# Numpy Practice Questions\n",
        "\n",
        "Topics:\n",
        "\n",
        "1. Create Numpy arrays\n",
        "2. Array Operations\n",
        "3. Indexing and Slicing\n",
        "4. Array Manipulation"
      ],
      "metadata": {
        "id": "LDVelluSeycz"
      }
    },
    {
      "cell_type": "markdown",
      "source": [
        "# Create Numpy Arrays"
      ],
      "metadata": {
        "id": "eOmH39XEMV0S"
      }
    },
    {
      "cell_type": "markdown",
      "source": [
        "## Problem 1:\n",
        "\n",
        "Create a one dimensional array in Numpy."
      ],
      "metadata": {
        "id": "I_qWWksj5B-R"
      }
    },
    {
      "cell_type": "code",
      "execution_count": 1,
      "metadata": {
        "id": "VUzGy8Sd4rFg",
        "colab": {
          "base_uri": "https://localhost:8080/"
        },
        "outputId": "9e57554d-33c4-4d5d-de04-303d0e04f3da"
      },
      "outputs": [
        {
          "output_type": "stream",
          "name": "stdout",
          "text": [
            "[1 2 3 4 5]\n"
          ]
        }
      ],
      "source": [
        "import numpy as np\n",
        "a = np.array([1,2,3,4,5])\n",
        "print(a)"
      ]
    },
    {
      "cell_type": "markdown",
      "source": [
        "## Problem 2:\n",
        "\n",
        "Create a function to create a 2x2 matrix in Numpy."
      ],
      "metadata": {
        "id": "pN6zpFjG5KRG"
      }
    },
    {
      "cell_type": "code",
      "source": [
        "b = np.array([[1,2],[3,4]])\n",
        "print(b)"
      ],
      "metadata": {
        "id": "kW0jccet5Ugx",
        "colab": {
          "base_uri": "https://localhost:8080/"
        },
        "outputId": "bc3d1770-91f9-44af-9776-6f4baaa9e468"
      },
      "execution_count": 2,
      "outputs": [
        {
          "output_type": "stream",
          "name": "stdout",
          "text": [
            "[[1 2]\n",
            " [3 4]]\n"
          ]
        }
      ]
    },
    {
      "cell_type": "markdown",
      "source": [
        "## Problem 3:\n",
        "\n",
        "Create an array filled with zeors."
      ],
      "metadata": {
        "id": "tdVfFyRE5VLy"
      }
    },
    {
      "cell_type": "code",
      "source": [
        "c = np.zeros(4)\n",
        "print(c)"
      ],
      "metadata": {
        "id": "ObyVfSsK5cU7",
        "colab": {
          "base_uri": "https://localhost:8080/"
        },
        "outputId": "4cdf159d-5455-44a2-c517-95176e44621f"
      },
      "execution_count": 4,
      "outputs": [
        {
          "output_type": "stream",
          "name": "stdout",
          "text": [
            "[0. 0. 0. 0.]\n"
          ]
        }
      ]
    },
    {
      "cell_type": "markdown",
      "source": [
        "## Problem 4:\n",
        "\n",
        "Generate a array of random numbers."
      ],
      "metadata": {
        "id": "AsZQumcY5dZQ"
      }
    },
    {
      "cell_type": "code",
      "source": [
        "d = np.random.random(5)\n",
        "print(d)"
      ],
      "metadata": {
        "id": "QQgNiXP85jLq",
        "colab": {
          "base_uri": "https://localhost:8080/"
        },
        "outputId": "6aa9f2ea-e8df-44d7-bf6f-71ae439b31c5"
      },
      "execution_count": 6,
      "outputs": [
        {
          "output_type": "stream",
          "name": "stdout",
          "text": [
            "[0.45248662 0.16687531 0.4811944  0.73119045 0.17694811]\n"
          ]
        }
      ]
    },
    {
      "cell_type": "markdown",
      "source": [
        "## Problem 5:\n",
        "\n",
        "Create an 1D array with int32 data type."
      ],
      "metadata": {
        "id": "v6a2587UMTAv"
      }
    },
    {
      "cell_type": "code",
      "source": [
        "e = np.array([1,2,3,4,5], dtype=np.int32)\n",
        "print(e.dtype)"
      ],
      "metadata": {
        "id": "m2EmM2z0MryL",
        "colab": {
          "base_uri": "https://localhost:8080/"
        },
        "outputId": "5a618830-ddb9-43a3-a079-af5d12afb96d"
      },
      "execution_count": 8,
      "outputs": [
        {
          "output_type": "stream",
          "name": "stdout",
          "text": [
            "int32\n"
          ]
        }
      ]
    },
    {
      "cell_type": "markdown",
      "source": [
        "# Array Operations"
      ],
      "metadata": {
        "id": "B9mmE65iM95n"
      }
    },
    {
      "cell_type": "markdown",
      "source": [
        "## Problem 6:\n",
        "\n",
        "Multiply each element of the array with 2."
      ],
      "metadata": {
        "id": "-QRYiwLbNDqu"
      }
    },
    {
      "cell_type": "code",
      "source": [
        "a = np.array([1,2,3,4,5])\n",
        "print(a*2)"
      ],
      "metadata": {
        "id": "3rPcnibqNA8v",
        "colab": {
          "base_uri": "https://localhost:8080/"
        },
        "outputId": "00df32fc-b9ab-4bd0-bd34-20c414eaebe6"
      },
      "execution_count": 10,
      "outputs": [
        {
          "output_type": "stream",
          "name": "stdout",
          "text": [
            "[ 2  4  6  8 10]\n"
          ]
        }
      ]
    },
    {
      "cell_type": "markdown",
      "source": [
        "## Problem 7:\n",
        "\n",
        "Perform element-wise addition of two arrays."
      ],
      "metadata": {
        "id": "Qe3uzsKMNUEB"
      }
    },
    {
      "cell_type": "code",
      "source": [
        "b1 = np.array([[1,2],[3,4]])\n",
        "b2 = np.array([[5,6],[7,8]])\n",
        "print(b1 + b2)"
      ],
      "metadata": {
        "id": "vmvZgzZ_NbHu",
        "colab": {
          "base_uri": "https://localhost:8080/"
        },
        "outputId": "ff7746f5-8c97-4a10-fd9e-24594ea03a21"
      },
      "execution_count": 11,
      "outputs": [
        {
          "output_type": "stream",
          "name": "stdout",
          "text": [
            "[[ 6  8]\n",
            " [10 12]]\n"
          ]
        }
      ]
    },
    {
      "cell_type": "markdown",
      "source": [
        "## Problem 8:\n",
        "\n",
        "Find the maximum value in an array."
      ],
      "metadata": {
        "id": "Vx-LkRKwNb2c"
      }
    },
    {
      "cell_type": "code",
      "source": [
        "a = np.array([4,7,2,6,9,1])\n",
        "print(np.max(a))"
      ],
      "metadata": {
        "id": "IPEwRb2dNmeJ",
        "colab": {
          "base_uri": "https://localhost:8080/"
        },
        "outputId": "ac490320-d405-488f-c54f-caf69aa071ce"
      },
      "execution_count": 12,
      "outputs": [
        {
          "output_type": "stream",
          "name": "stdout",
          "text": [
            "9\n"
          ]
        }
      ]
    },
    {
      "cell_type": "markdown",
      "source": [
        "## Problem 9:\n",
        "\n",
        "Calculate the mean of an array."
      ],
      "metadata": {
        "id": "23ond45ENnEP"
      }
    },
    {
      "cell_type": "code",
      "source": [
        "print(np.mean(a))"
      ],
      "metadata": {
        "id": "YBnjQzr7Nqw5",
        "colab": {
          "base_uri": "https://localhost:8080/"
        },
        "outputId": "071699a9-811b-4a22-ac16-007fbafdff11"
      },
      "execution_count": 13,
      "outputs": [
        {
          "output_type": "stream",
          "name": "stdout",
          "text": [
            "4.833333333333333\n"
          ]
        }
      ]
    },
    {
      "cell_type": "markdown",
      "source": [
        "## Problem 10:\n",
        "\n",
        "Perform a dot product of two arrays."
      ],
      "metadata": {
        "id": "Nl-UTJkRNrYe"
      }
    },
    {
      "cell_type": "code",
      "source": [
        "a = np.array([[1,2,3],[4,5,6]])\n",
        "b = np.array([[1,2],[3,4],[5,6]])\n",
        "\n",
        "print(np.dot(a,b))"
      ],
      "metadata": {
        "id": "qqtxwNHCNxZ2",
        "colab": {
          "base_uri": "https://localhost:8080/"
        },
        "outputId": "7369d13d-23ed-4b2d-c05b-78704173b0ce"
      },
      "execution_count": 14,
      "outputs": [
        {
          "output_type": "stream",
          "name": "stdout",
          "text": [
            "[[22 28]\n",
            " [49 64]]\n"
          ]
        }
      ]
    },
    {
      "cell_type": "markdown",
      "source": [
        "# Indexing and Slicing"
      ],
      "metadata": {
        "id": "digL7RnzNyA-"
      }
    },
    {
      "cell_type": "markdown",
      "source": [
        "## Problem 11:\n",
        "\n",
        "Access the third element in a 1D array."
      ],
      "metadata": {
        "id": "-Yvqc9hlN4C7"
      }
    },
    {
      "cell_type": "code",
      "source": [
        "a = np.array([1,2,3,4,5])\n",
        "a[2]"
      ],
      "metadata": {
        "id": "0uuookOrN3Ip",
        "colab": {
          "base_uri": "https://localhost:8080/"
        },
        "outputId": "80b315e8-f816-4173-a3d7-e36325b557b7"
      },
      "execution_count": 15,
      "outputs": [
        {
          "output_type": "execute_result",
          "data": {
            "text/plain": [
              "3"
            ]
          },
          "metadata": {},
          "execution_count": 15
        }
      ]
    },
    {
      "cell_type": "markdown",
      "source": [
        "## Problem 12:\n",
        "\n",
        "Access the last row in a 2D array."
      ],
      "metadata": {
        "id": "aWNLUWnuOC1q"
      }
    },
    {
      "cell_type": "code",
      "source": [
        "a = np.array([[1,2],[3,4]])\n",
        "a[-1]"
      ],
      "metadata": {
        "id": "mdvFpXXCOKGM",
        "colab": {
          "base_uri": "https://localhost:8080/"
        },
        "outputId": "4a59403e-a962-41e9-810c-3a55436f3a8c"
      },
      "execution_count": 17,
      "outputs": [
        {
          "output_type": "execute_result",
          "data": {
            "text/plain": [
              "array([3, 4])"
            ]
          },
          "metadata": {},
          "execution_count": 17
        }
      ]
    },
    {
      "cell_type": "markdown",
      "source": [
        "## Problem 13:\n",
        "\n",
        "Access the odds columns with all rows in a 2D array."
      ],
      "metadata": {
        "id": "vguhxnpAOKpg"
      }
    },
    {
      "cell_type": "code",
      "source": [
        "a = np.array([[1,2,3],[4,5,6]])\n",
        "a[:,::2]"
      ],
      "metadata": {
        "id": "YuaI4BUpOXfV",
        "colab": {
          "base_uri": "https://localhost:8080/"
        },
        "outputId": "69fe3723-37c0-4e51-dfbc-30a42093b34a"
      },
      "execution_count": 18,
      "outputs": [
        {
          "output_type": "execute_result",
          "data": {
            "text/plain": [
              "array([[1, 3],\n",
              "       [4, 6]])"
            ]
          },
          "metadata": {},
          "execution_count": 18
        }
      ]
    },
    {
      "cell_type": "markdown",
      "source": [
        "## Problem 14:\n",
        "\n",
        "a =\n",
        "\n",
        "    [[[11 21 31]\n",
        "      [41 51 61]]\n",
        "\n",
        "     [[71 81 91]\n",
        "      [12 22 32]]]\n",
        "\n",
        "Fetch elements 11, 31, 41 and 61 from the 3D array a."
      ],
      "metadata": {
        "id": "CkAqPf2ZOYIz"
      }
    },
    {
      "cell_type": "code",
      "source": [
        "a = np.array([[[11, 21, 31],[41, 51, 61]],  [[71, 81, 91],  [12, 22, 32]]])\n",
        "print(a[0, :, ::2])"
      ],
      "metadata": {
        "id": "Z4L0MNwdPU0J",
        "colab": {
          "base_uri": "https://localhost:8080/"
        },
        "outputId": "36a16253-2f0d-4c1d-e6d4-a755c9b914ad"
      },
      "execution_count": 19,
      "outputs": [
        {
          "output_type": "stream",
          "name": "stdout",
          "text": [
            "[[11 31]\n",
            " [41 61]]\n"
          ]
        }
      ]
    },
    {
      "cell_type": "markdown",
      "source": [
        "## Problem 15:\n",
        "\n",
        "From the above array print elements 12 and 22"
      ],
      "metadata": {
        "id": "wNfXxivnPnS9"
      }
    },
    {
      "cell_type": "code",
      "source": [
        "print(a[1, 1, :2])"
      ],
      "metadata": {
        "id": "Et7HDhtoP3xD",
        "colab": {
          "base_uri": "https://localhost:8080/"
        },
        "outputId": "f954bc9a-d19a-4fe3-c0ac-d299546ba67c"
      },
      "execution_count": 20,
      "outputs": [
        {
          "output_type": "stream",
          "name": "stdout",
          "text": [
            "[12 22]\n"
          ]
        }
      ]
    },
    {
      "cell_type": "markdown",
      "source": [
        "# Array Manipulation"
      ],
      "metadata": {
        "id": "hEzKaVzVP5f-"
      }
    },
    {
      "cell_type": "markdown",
      "source": [
        "## Problem 16:\n",
        "\n",
        "Transpose a matrix in Numpy (2D array)."
      ],
      "metadata": {
        "id": "AWIT8HMPP9rK"
      }
    },
    {
      "cell_type": "code",
      "source": [
        "a = np.array([[1,2,3],[4,5,6]])\n",
        "print(np.transpose(a))"
      ],
      "metadata": {
        "id": "89CFIYG7P9MB",
        "colab": {
          "base_uri": "https://localhost:8080/"
        },
        "outputId": "9f4c6760-33e3-464f-f808-8c7f3cb2036f"
      },
      "execution_count": 22,
      "outputs": [
        {
          "output_type": "stream",
          "name": "stdout",
          "text": [
            "[[1 4]\n",
            " [2 5]\n",
            " [3 6]]\n"
          ]
        }
      ]
    },
    {
      "cell_type": "markdown",
      "source": [
        "## Problem 17:\n",
        "\n",
        "Flatten a multi-dimensional array to 1D array."
      ],
      "metadata": {
        "id": "7m6HvoMqQLbU"
      }
    },
    {
      "cell_type": "code",
      "source": [
        "print(np.ravel(a))"
      ],
      "metadata": {
        "id": "SvtUb6gaQWSN",
        "colab": {
          "base_uri": "https://localhost:8080/"
        },
        "outputId": "304dc96b-e506-46cc-cbc7-d9ff10c2ded2"
      },
      "execution_count": 25,
      "outputs": [
        {
          "output_type": "stream",
          "name": "stdout",
          "text": [
            "[1 2 3 4 5 6]\n"
          ]
        }
      ]
    },
    {
      "cell_type": "markdown",
      "source": [
        "## Problem 18:\n",
        "\n",
        "Join two 1D arrays horizontally."
      ],
      "metadata": {
        "id": "BjQirBE7QZPT"
      }
    },
    {
      "cell_type": "code",
      "source": [
        "a = np.array([1,2,3,4,5])\n",
        "b = np.array([10,20,30,40])\n",
        "\n",
        "np.hstack([a,b])"
      ],
      "metadata": {
        "id": "8qQCaiP2Rz-q",
        "colab": {
          "base_uri": "https://localhost:8080/"
        },
        "outputId": "889d4dc0-d16b-4925-ddb4-2f2774fe5cee"
      },
      "execution_count": 34,
      "outputs": [
        {
          "output_type": "execute_result",
          "data": {
            "text/plain": [
              "array([ 1,  2,  3,  4,  5, 10, 20, 30, 40])"
            ]
          },
          "metadata": {},
          "execution_count": 34
        }
      ]
    },
    {
      "cell_type": "markdown",
      "source": [
        "## Problem 19:\n",
        "\n",
        "Join two 2D arrays vertically."
      ],
      "metadata": {
        "id": "qyuc0j1uR0yb"
      }
    },
    {
      "cell_type": "code",
      "source": [
        "a = np.array([[1,2], [3,4], [5,6]])\n",
        "b = np.array([[10,20], [30,40]])\n",
        "\n",
        "np.vstack([a,b])"
      ],
      "metadata": {
        "id": "O4IsoEbrR5Jy",
        "colab": {
          "base_uri": "https://localhost:8080/"
        },
        "outputId": "5ab868fd-d735-48c2-8d87-a3f0676e308e"
      },
      "execution_count": 32,
      "outputs": [
        {
          "output_type": "execute_result",
          "data": {
            "text/plain": [
              "array([[ 1,  2],\n",
              "       [ 3,  4],\n",
              "       [ 5,  6],\n",
              "       [10, 20],\n",
              "       [30, 40]])"
            ]
          },
          "metadata": {},
          "execution_count": 32
        }
      ]
    },
    {
      "cell_type": "markdown",
      "source": [
        "## Problem 20:\n",
        "\n",
        "Split an array of shape (2,4) in two equall parts horizontally."
      ],
      "metadata": {
        "id": "GnTCjmPpR5oR"
      }
    },
    {
      "cell_type": "code",
      "source": [
        "a = np.array([[1,2,3,4], [5,6,7,8]])\n",
        "print(a)\n",
        "a1, a2 = np.hsplit(a,2)\n",
        "print()\n",
        "print(a1)\n",
        "print()\n",
        "print(a2)"
      ],
      "metadata": {
        "id": "1RmCc-zGSN1f",
        "colab": {
          "base_uri": "https://localhost:8080/"
        },
        "outputId": "1135257e-ecfc-4ed5-b609-6e6ba59a7234"
      },
      "execution_count": 38,
      "outputs": [
        {
          "output_type": "stream",
          "name": "stdout",
          "text": [
            "[[1 2 3 4]\n",
            " [5 6 7 8]]\n",
            "\n",
            "[[1 2]\n",
            " [5 6]]\n",
            "\n",
            "[[3 4]\n",
            " [7 8]]\n"
          ]
        }
      ]
    }
  ]
}