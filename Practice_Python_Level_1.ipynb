{
  "nbformat": 4,
  "nbformat_minor": 0,
  "metadata": {
    "colab": {
      "provenance": []
    },
    "kernelspec": {
      "name": "python3",
      "display_name": "Python 3"
    },
    "language_info": {
      "name": "python"
    }
  },
  "cells": [
    {
      "cell_type": "markdown",
      "source": [
        "# Python Basics\n",
        "\n",
        "#### Here are 50 simple Python coding problems, covering the following topics:\n",
        "\n",
        "- Console input and output\n",
        "- Data types — integer, float, string and boolean\n",
        "- Operators\n",
        "- String\n",
        "- Decision Control Structures — if, else and elif\n",
        "- Repetition Control Structures — for and while loops\n",
        "- Data Structures — lists, tuples, sets and dictionaries\n",
        "- Comprehensions\n",
        "- Functions and Recursion\n",
        "- Functional Programming — lambda, map, filter and reduce"
      ],
      "metadata": {
        "id": "49x7C507Ioql"
      }
    },
    {
      "cell_type": "markdown",
      "source": [
        "To revise the above topics refer [this article](https://medium.com/@helloworld.this.is.apoorva/how-to-get-started-with-python-c4a6954224ed)"
      ],
      "metadata": {
        "id": "rUxsVovzQEXx"
      }
    },
    {
      "cell_type": "markdown",
      "source": [
        "### **1. Console Input and Output:**"
      ],
      "metadata": {
        "id": "FO3OhFx7JVId"
      }
    },
    {
      "cell_type": "markdown",
      "source": [
        "Problem 1:\n",
        "```python\n",
        "Write a program that takes a user's name as input and prints a greeting message.\n",
        "\n",
        "Input: Enter your name: Surya\n",
        "Output: Hello Surya. Have a wondeful day.\n",
        "```\n"
      ],
      "metadata": {
        "id": "1qCmhpz3Mrcf"
      }
    },
    {
      "cell_type": "markdown",
      "source": [
        "Problem 2:\n",
        "```python\n",
        "Write a program that takes two numbers as input and prints their sum.\n",
        "\n",
        "Input:\n",
        "Enter fist number: 6\n",
        "Enter second number: 7\n",
        "Output: The sum of 6 and 7 is 13.\n",
        "```"
      ],
      "metadata": {
        "id": "IQhdLercPWm_"
      }
    },
    {
      "cell_type": "markdown",
      "source": [
        "\n",
        "Problem 3:\n",
        "```python\n",
        "Write a program that takes a sentence as input and prints the number of words in it.\n",
        "\n",
        "Input: Enter sentence: It's a wonderful world\n",
        "Output: Total words = 22\n",
        "```"
      ],
      "metadata": {
        "id": "5LizeLMNPZDt"
      }
    },
    {
      "cell_type": "markdown",
      "source": [
        "Problem 4:\n",
        "```python\n",
        "Write a program that takes a string of 3 numbers separated by commas as input and prints their sum.\n",
        "\n",
        "Input:\n",
        "Enter numbers: 4,5,6\n",
        "Output: Sum = 15\n",
        "```"
      ],
      "metadata": {
        "id": "QNulu2HEXIqg"
      }
    },
    {
      "cell_type": "markdown",
      "source": [
        "Problem 5:\n",
        "```python\n",
        "Write a program that takes two words as input and prints them in reverse order.\n",
        "\n",
        "Input:\n",
        "Enter two words: Good Day\n",
        "Output: Day Good\n",
        "```"
      ],
      "metadata": {
        "id": "0vMXB9bGwqWL"
      }
    },
    {
      "cell_type": "markdown",
      "source": [
        "###**2. Data Types and Operators:**"
      ],
      "metadata": {
        "id": "JspkEvhC-IJp"
      }
    },
    {
      "cell_type": "markdown",
      "source": [
        "\n",
        "Problem 6:\n",
        "```python\n",
        "Write a program that calculates the area of a rectangle given its length and width.\n",
        "\n",
        "Input:\n",
        "Enter length in cm: 2\n",
        "Enter width in cm: 3\n",
        "Output: Area of the rectangle is 6 cm squared.\n",
        "\n",
        "```"
      ],
      "metadata": {
        "id": "D5thjUJeNnG6"
      }
    },
    {
      "cell_type": "markdown",
      "source": [
        "Problem 7:\n",
        "```python\n",
        "Write a program that checks if a given number is even or odd.\n",
        "\n",
        "Input: Enter a number: 4\n",
        "Output: Even\n",
        "```"
      ],
      "metadata": {
        "id": "KQG-UEaWP30g"
      }
    },
    {
      "cell_type": "markdown",
      "source": [
        "Problem 8:\n",
        "```python\n",
        "Write a program that calculates the volume of a sphere given its radius.\n",
        "\n",
        "Input:\n",
        "Enter radius in cm: 2\n",
        "Output: Volume = 33.51 cm³\n",
        "\n",
        "Note: Display the volumn with 2 decimal places.\n",
        "```"
      ],
      "metadata": {
        "id": "ZNpxAN12XtU0"
      }
    },
    {
      "cell_type": "markdown",
      "source": [
        "Problem 9:\n",
        "```python\n",
        "Write a program that converts a temperature in Celsius to Fahrenheit.\n",
        "\n",
        "Input: Enter temperature in Celsius: 100\n",
        "Output: 32°F\n",
        "```"
      ],
      "metadata": {
        "id": "uaCXda_GP1cM"
      }
    },
    {
      "cell_type": "markdown",
      "source": [
        "Problem 10:\n",
        "```python\n",
        "Write a program that checks if a given number is a prime number.\n",
        "\n",
        "Input: Enter a number: 5\n",
        "Output: 5 is a prime number.\n",
        "```"
      ],
      "metadata": {
        "id": "x8bBazCoxnno"
      }
    },
    {
      "cell_type": "markdown",
      "source": [
        "###**3. Strings:**"
      ],
      "metadata": {
        "id": "SOkGMYYl-MGw"
      }
    },
    {
      "cell_type": "markdown",
      "source": [
        "\n",
        "\n",
        "Problem 11:\n",
        "```python\n",
        "Write a program that counts the number of characters in a given string (excluding spaces).\n",
        "\n",
        "Input:\n",
        "Enter a string: This is going to be the best day of my life.\n",
        "Output: 33\n",
        "```\n"
      ],
      "metadata": {
        "id": "yraHI74oVF53"
      }
    },
    {
      "cell_type": "markdown",
      "source": [
        "\n",
        "\n",
        "Problem 12:\n",
        "```python\n",
        "Write a program that reverses a given string.\n",
        "\n",
        "Input:\n",
        "Enter a string: Ola\n",
        "Output: alO\n",
        "```\n"
      ],
      "metadata": {
        "id": "9JB4Zjc0Wq7w"
      }
    },
    {
      "cell_type": "markdown",
      "source": [
        "\n",
        "Problem 13:\n",
        "```python\n",
        "Write a program that checks if a given word is a palindrome.\n",
        "\n",
        "Input:\n",
        "Enter a string: Madam\n",
        "Output: Madam is a palindrome\n",
        "```\n"
      ],
      "metadata": {
        "id": "qIH-_m6YWrzb"
      }
    },
    {
      "cell_type": "markdown",
      "source": [
        "\n",
        "Problem 14:\n",
        "```python\n",
        "Write a program that counts the occurrences of a specific character in a given string.\n",
        "\n",
        "Input:\n",
        "Enter a string: Madagascar\n",
        "Enter specific character: a\n",
        "Output: Charcater a occures 4 times in Madagascar.\n",
        "```\n"
      ],
      "metadata": {
        "id": "95vcACGgWtOY"
      }
    },
    {
      "cell_type": "markdown",
      "source": [
        "\n",
        "Problem 15:\n",
        "```python\n",
        "Write a program that converts the first letter of each word in a sentence to uppercase.\n",
        "\n",
        "Input:\n",
        "Enter a string: hyper text markup language\n",
        "Output: Hyper Text Markup Language\n",
        "```"
      ],
      "metadata": {
        "id": "Tg5USqUMWuqU"
      }
    },
    {
      "cell_type": "markdown",
      "source": [
        "###**4. Control Structures:**"
      ],
      "metadata": {
        "id": "IioZ-6cR-P8S"
      }
    },
    {
      "cell_type": "markdown",
      "source": [
        "\n",
        "Problem 16:\n",
        "```python\n",
        "Write a program that checks if a given number is positive, negative, or zero.\n",
        "```\n"
      ],
      "metadata": {
        "id": "vjLjdqDsUtQq"
      }
    },
    {
      "cell_type": "markdown",
      "source": [
        "Problem 17:\n",
        "```python\n",
        "Write a program that checks if a given year is a leap year.\n",
        "```"
      ],
      "metadata": {
        "id": "4V5zE24pZ2kK"
      }
    },
    {
      "cell_type": "markdown",
      "source": [
        "\n",
        "Problem 18:\n",
        "```python\n",
        "Write a program that prints the first 10 natural numbers using a while loop.\n",
        "```\n"
      ],
      "metadata": {
        "id": "odQ_yqYcUuRZ"
      }
    },
    {
      "cell_type": "markdown",
      "source": [
        "Problem 19:\n",
        "```python\n",
        "Write a program that prints the first 20 natural numbers in reverse order using a while loop.\n",
        "```"
      ],
      "metadata": {
        "id": "fkKZSyjwZ46m"
      }
    },
    {
      "cell_type": "markdown",
      "source": [
        "\n",
        "Problem 20:\n",
        "```python\n",
        "Write a program that finds the sum of all even numbers between 1 and 50 using a for loop.\n",
        "```\n"
      ],
      "metadata": {
        "id": "Y6PvLoGbUvZd"
      }
    },
    {
      "cell_type": "markdown",
      "source": [
        "Problem 21:\n",
        "```python\n",
        "Write a program that finds the product of all odd numbers between 1 and 50 using a for loop.\n",
        "```"
      ],
      "metadata": {
        "id": "2yQY4GZhZ77D"
      }
    },
    {
      "cell_type": "markdown",
      "source": [
        "Problem 22:\n",
        "```python\n",
        "Write a program that checks if a given number is divisible by 5 using conditional expression.\n",
        "```\n"
      ],
      "metadata": {
        "id": "CmIqCTrCyr-k"
      }
    },
    {
      "cell_type": "markdown",
      "source": [
        "###**5. Data Structures: lists, tuples, sets and dictionaries**"
      ],
      "metadata": {
        "id": "_cwXlUhv-TJ9"
      }
    },
    {
      "cell_type": "markdown",
      "source": [
        "\n",
        "Problem 23:\n",
        "```python\n",
        "Write a program that creates a list of numbers and prints the largest number in the list.\n",
        "```\n"
      ],
      "metadata": {
        "id": "fw6Etw5sNu6z"
      }
    },
    {
      "cell_type": "markdown",
      "source": [
        "Problem 24:\n",
        "```python\n",
        "Write a program that creates a list of names and prints the names in alphabetical order.\n",
        "```"
      ],
      "metadata": {
        "id": "jN_xnKrZZRei"
      }
    },
    {
      "cell_type": "markdown",
      "source": [
        "Problem 25:\n",
        "```python\n",
        "Write a program that creates a list of numbers and find the count of a specific number.\n",
        "```"
      ],
      "metadata": {
        "id": "P_Axqwoyz-1T"
      }
    },
    {
      "cell_type": "markdown",
      "source": [
        "\n",
        "Problem 26:\n",
        "```python\n",
        "Write a program that creates a tuple of fruits and prints the third fruit in the tuple.\n",
        "```\n"
      ],
      "metadata": {
        "id": "NwVED0RnUn0_"
      }
    },
    {
      "cell_type": "markdown",
      "source": [
        "Problem 26:\n",
        "```python\n",
        "Write a program that creates a tuple of cities and prints the city with the longest name.\n",
        "```"
      ],
      "metadata": {
        "id": "Ut3xAt5VZS1u"
      }
    },
    {
      "cell_type": "markdown",
      "source": [
        "Problem 27:\n",
        "```python\n",
        "Write a program that creates a tuple of names and remove the last name.\n",
        "```"
      ],
      "metadata": {
        "id": "lYoqUUyI02Uj"
      }
    },
    {
      "cell_type": "markdown",
      "source": [
        "\n",
        "Problem 28:\n",
        "```python\n",
        "Write a program that creates a set of colors and prints the number of unique colors.\n",
        "```\n"
      ],
      "metadata": {
        "id": "v4HOy1cFUp1I"
      }
    },
    {
      "cell_type": "markdown",
      "source": [
        "Problem 29:\n",
        "```python\n",
        "Write a program that creates a set of numbers and prints the sum of all even numbers in the set.\n",
        "```\n"
      ],
      "metadata": {
        "id": "pQSZCCHuZVRm"
      }
    },
    {
      "cell_type": "markdown",
      "source": [
        "Problem 30:\n",
        "```python\n",
        "Write a program that creates two sets of numbers and prints the common numbers in both sets.\n",
        "```"
      ],
      "metadata": {
        "id": "FTNYCbdW1WuL"
      }
    },
    {
      "cell_type": "markdown",
      "source": [
        "\n",
        "Problem 31:\n",
        "```python\n",
        "Write a program that creates a dictionary of student names and their ages, and prints the age of a specific student.\n",
        "```\n"
      ],
      "metadata": {
        "id": "06WuaAy4Ur54"
      }
    },
    {
      "cell_type": "markdown",
      "source": [
        "Problem 32:\n",
        "```python\n",
        "Write a program that creates a dictionary of book titles and their authors, and prints the book titles in alphabetical order.\n",
        "```"
      ],
      "metadata": {
        "id": "VU_Jds7nZXuk"
      }
    },
    {
      "cell_type": "markdown",
      "source": [
        "Problem 33:\n",
        "```python\n",
        "Write a program that creates a dictionary of Country and their Capital city, and prints all the capitals.\n",
        "```"
      ],
      "metadata": {
        "id": "aSL8yFW92iiY"
      }
    },
    {
      "cell_type": "markdown",
      "source": [
        "###**6. Comprehensions:**"
      ],
      "metadata": {
        "id": "hrRUiBNH-Xmi"
      }
    },
    {
      "cell_type": "markdown",
      "source": [
        "\n",
        "Problem 34:\n",
        "```python\n",
        "Write a program that creates a list of squares of numbers from 1 to 10 using a list comprehension.\n",
        "```\n"
      ],
      "metadata": {
        "id": "uw_VVzMhUwTA"
      }
    },
    {
      "cell_type": "markdown",
      "source": [
        "Problem 35:\n",
        "```python\n",
        "Write a program that creates a list of even numbers from 1 to 20 using a list comprehension.\n",
        "```"
      ],
      "metadata": {
        "id": "vPVN6UiNa28Z"
      }
    },
    {
      "cell_type": "markdown",
      "source": [
        "\n",
        "Problem 36:\n",
        "```python\n",
        "Write a program that creates a set of vowels from a given sentence using a set comprehension.\n",
        "```\n"
      ],
      "metadata": {
        "id": "qOdyBNYnUxhA"
      }
    },
    {
      "cell_type": "markdown",
      "source": [
        "\n",
        "Problem 37:\n",
        "```python\n",
        "Write a program that change the data type (from int to str) of elements of the set using a set comprehension.\n",
        "```\n"
      ],
      "metadata": {
        "id": "DVFkCd8240HE"
      }
    },
    {
      "cell_type": "markdown",
      "source": [
        "Problem 38:\n",
        "```python\n",
        "Write a program that creates a dictionary with numbers as their key and cubes as their values using dictionary comprehension.\n",
        "```"
      ],
      "metadata": {
        "id": "z1pN03tnfZz-"
      }
    },
    {
      "cell_type": "markdown",
      "source": [
        "Problem 39:\n",
        "```python\n",
        "Write a program that creates a dictionary with students and their marks and select only those which have marks more than 40 using a dictionary comprehension.\n",
        "```"
      ],
      "metadata": {
        "id": "gKGGyeVB3IdD"
      }
    },
    {
      "cell_type": "markdown",
      "source": [
        "###**7. Functions and Recursion:**"
      ],
      "metadata": {
        "id": "VH5Dfzxc-a7S"
      }
    },
    {
      "cell_type": "markdown",
      "source": [
        "\n",
        "Problem 40:\n",
        "```python\n",
        "Write a function that calculates the greatest common divisor (GCD) of two numbers.\n",
        "```"
      ],
      "metadata": {
        "id": "6GZ3hGq7bDA1"
      }
    },
    {
      "cell_type": "markdown",
      "source": [
        "Problem 41:\n",
        "```python\n",
        "Write a function that generates all prime numbers up to a given limit.\n",
        "```"
      ],
      "metadata": {
        "id": "DI03InRBbGqS"
      }
    },
    {
      "cell_type": "markdown",
      "source": [
        "\n",
        "Problem 42:\n",
        "```python\n",
        "Write a function that checks if a given string is a palindrome.\n",
        "```\n"
      ],
      "metadata": {
        "id": "PpTsOqkqU2_J"
      }
    },
    {
      "cell_type": "markdown",
      "source": [
        "Problem 43:\n",
        "```python\n",
        "Write a function that calculates the factorial of a given number using recursion.\n",
        "```\n"
      ],
      "metadata": {
        "id": "uFMEQjTTU1Q4"
      }
    },
    {
      "cell_type": "markdown",
      "source": [
        "\n",
        "Problem 44:\n",
        "```python\n",
        "Write a program that uses a recursive function to calculate the Fibonacci sequence.\n",
        "```"
      ],
      "metadata": {
        "id": "hsei1JFDU4EH"
      }
    },
    {
      "cell_type": "markdown",
      "source": [
        "###**8. Lambda, Map, Filter, Reduce:**"
      ],
      "metadata": {
        "id": "HoU5fCHQ-dpl"
      }
    },
    {
      "cell_type": "markdown",
      "source": [
        "\n",
        "\n",
        "Problem 45:\n",
        "```python\n",
        "Write a program that squares all the elements in a list using map and lambda.\n",
        "```\n"
      ],
      "metadata": {
        "id": "muVQrAwSUyfU"
      }
    },
    {
      "cell_type": "markdown",
      "source": [
        "Problem 46:\n",
        "```python\n",
        "Write a program that calculates the square root of each element in a list using map and lambda.\n",
        "```"
      ],
      "metadata": {
        "id": "_7huCNjbcI-N"
      }
    },
    {
      "cell_type": "markdown",
      "source": [
        "\n",
        "Problem 47:\n",
        "```python\n",
        "Write a program that filters out even numbers from a list using filter and lambda.\n",
        "```\n"
      ],
      "metadata": {
        "id": "isY45ApOUzj2"
      }
    },
    {
      "cell_type": "markdown",
      "source": [
        "Problem 48:\n",
        "```python\n",
        "Write a program that filters out words with less than 5 characters from a list of words using filter and lambda.\n",
        "```"
      ],
      "metadata": {
        "id": "BerBsKMDcL7o"
      }
    },
    {
      "cell_type": "markdown",
      "source": [
        "\n",
        "Problem 49:\n",
        "```python\n",
        "Write a program that finds the product of all elements in a list using reduce and lambda.\n",
        "```\n"
      ],
      "metadata": {
        "id": "nIiaijnJU0bX"
      }
    },
    {
      "cell_type": "markdown",
      "source": [
        "Problem 50:\n",
        "```python\n",
        "Write a program that finds the maximum element in a list using reduce and lambda.\n",
        "\n",
        "```"
      ],
      "metadata": {
        "id": "6_2BQuf6cQ9z"
      }
    }
  ]
}