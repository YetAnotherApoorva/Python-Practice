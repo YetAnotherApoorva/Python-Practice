{
  "nbformat": 4,
  "nbformat_minor": 0,
  "metadata": {
    "colab": {
      "provenance": []
    },
    "kernelspec": {
      "name": "python3",
      "display_name": "Python 3"
    },
    "language_info": {
      "name": "python"
    }
  },
  "cells": [
    {
      "cell_type": "markdown",
      "source": [
        "# Numpy Practice Questions\n",
        "\n",
        "Topics:\n",
        "\n",
        "1. Create Numpy arrays\n",
        "2. Array Operations\n",
        "3. Indexing and Slicing\n",
        "4. Array Manipulation"
      ],
      "metadata": {
        "id": "aVEOufTgfJy0"
      }
    },
    {
      "cell_type": "markdown",
      "source": [
        "# Create Numpy Arrays"
      ],
      "metadata": {
        "id": "eOmH39XEMV0S"
      }
    },
    {
      "cell_type": "markdown",
      "source": [
        "## Problem 1:\n",
        "\n",
        "Create a one dimensional array in Numpy."
      ],
      "metadata": {
        "id": "I_qWWksj5B-R"
      }
    },
    {
      "cell_type": "code",
      "execution_count": null,
      "metadata": {
        "id": "VUzGy8Sd4rFg"
      },
      "outputs": [],
      "source": []
    },
    {
      "cell_type": "markdown",
      "source": [
        "## Problem 2:\n",
        "\n",
        "Create a function to create a 2x2 matrix in Numpy."
      ],
      "metadata": {
        "id": "pN6zpFjG5KRG"
      }
    },
    {
      "cell_type": "code",
      "source": [],
      "metadata": {
        "id": "kW0jccet5Ugx"
      },
      "execution_count": null,
      "outputs": []
    },
    {
      "cell_type": "markdown",
      "source": [
        "## Problem 3:\n",
        "\n",
        "Create an array filled with zeors."
      ],
      "metadata": {
        "id": "tdVfFyRE5VLy"
      }
    },
    {
      "cell_type": "code",
      "source": [],
      "metadata": {
        "id": "ObyVfSsK5cU7"
      },
      "execution_count": null,
      "outputs": []
    },
    {
      "cell_type": "markdown",
      "source": [
        "## Problem 4:\n",
        "\n",
        "Generate a array of random numbers."
      ],
      "metadata": {
        "id": "AsZQumcY5dZQ"
      }
    },
    {
      "cell_type": "code",
      "source": [],
      "metadata": {
        "id": "QQgNiXP85jLq"
      },
      "execution_count": null,
      "outputs": []
    },
    {
      "cell_type": "markdown",
      "source": [
        "## Problem 5:\n",
        "\n",
        "Create an 1D array with int32 data type."
      ],
      "metadata": {
        "id": "v6a2587UMTAv"
      }
    },
    {
      "cell_type": "code",
      "source": [],
      "metadata": {
        "id": "m2EmM2z0MryL"
      },
      "execution_count": null,
      "outputs": []
    },
    {
      "cell_type": "markdown",
      "source": [
        "# Array Operations"
      ],
      "metadata": {
        "id": "B9mmE65iM95n"
      }
    },
    {
      "cell_type": "markdown",
      "source": [
        "## Problem 6:\n",
        "\n",
        "Multiply each element of the array with 2."
      ],
      "metadata": {
        "id": "-QRYiwLbNDqu"
      }
    },
    {
      "cell_type": "code",
      "source": [],
      "metadata": {
        "id": "3rPcnibqNA8v"
      },
      "execution_count": null,
      "outputs": []
    },
    {
      "cell_type": "markdown",
      "source": [
        "## Problem 7:\n",
        "\n",
        "Perform element-wise addition of two arrays."
      ],
      "metadata": {
        "id": "Qe3uzsKMNUEB"
      }
    },
    {
      "cell_type": "code",
      "source": [],
      "metadata": {
        "id": "vmvZgzZ_NbHu"
      },
      "execution_count": null,
      "outputs": []
    },
    {
      "cell_type": "markdown",
      "source": [
        "## Problem 8:\n",
        "\n",
        "Find the maximum value in an array."
      ],
      "metadata": {
        "id": "Vx-LkRKwNb2c"
      }
    },
    {
      "cell_type": "code",
      "source": [],
      "metadata": {
        "id": "IPEwRb2dNmeJ"
      },
      "execution_count": null,
      "outputs": []
    },
    {
      "cell_type": "markdown",
      "source": [
        "## Problem 9:\n",
        "\n",
        "Calculate the mean of an array."
      ],
      "metadata": {
        "id": "23ond45ENnEP"
      }
    },
    {
      "cell_type": "code",
      "source": [],
      "metadata": {
        "id": "YBnjQzr7Nqw5"
      },
      "execution_count": null,
      "outputs": []
    },
    {
      "cell_type": "markdown",
      "source": [
        "## Problem 10:\n",
        "\n",
        "Perform a dot product of two arrays."
      ],
      "metadata": {
        "id": "Nl-UTJkRNrYe"
      }
    },
    {
      "cell_type": "code",
      "source": [],
      "metadata": {
        "id": "qqtxwNHCNxZ2"
      },
      "execution_count": null,
      "outputs": []
    },
    {
      "cell_type": "markdown",
      "source": [
        "# Indexing and Slicing"
      ],
      "metadata": {
        "id": "digL7RnzNyA-"
      }
    },
    {
      "cell_type": "markdown",
      "source": [
        "## Problem 11:\n",
        "\n",
        "Access the third element in a 1D array."
      ],
      "metadata": {
        "id": "-Yvqc9hlN4C7"
      }
    },
    {
      "cell_type": "code",
      "source": [],
      "metadata": {
        "id": "0uuookOrN3Ip"
      },
      "execution_count": null,
      "outputs": []
    },
    {
      "cell_type": "markdown",
      "source": [
        "## Problem 12:\n",
        "\n",
        "Access the last row in a 2D array."
      ],
      "metadata": {
        "id": "aWNLUWnuOC1q"
      }
    },
    {
      "cell_type": "code",
      "source": [],
      "metadata": {
        "id": "mdvFpXXCOKGM"
      },
      "execution_count": null,
      "outputs": []
    },
    {
      "cell_type": "markdown",
      "source": [
        "## Problem 13:\n",
        "\n",
        "Access the odds columns with all rows in a 2D array."
      ],
      "metadata": {
        "id": "vguhxnpAOKpg"
      }
    },
    {
      "cell_type": "code",
      "source": [],
      "metadata": {
        "id": "YuaI4BUpOXfV"
      },
      "execution_count": null,
      "outputs": []
    },
    {
      "cell_type": "markdown",
      "source": [
        "## Problem 14:\n",
        "\n",
        "a =\n",
        "\n",
        "    [[[11 21 31]\n",
        "      [41 51 61]]\n",
        "\n",
        "     [[71 81 91]\n",
        "      [12 22 32]]]\n",
        "\n",
        "Fetch elements 11, 31, 41 and 61 from the 3D array a."
      ],
      "metadata": {
        "id": "CkAqPf2ZOYIz"
      }
    },
    {
      "cell_type": "code",
      "source": [],
      "metadata": {
        "id": "Z4L0MNwdPU0J"
      },
      "execution_count": null,
      "outputs": []
    },
    {
      "cell_type": "markdown",
      "source": [
        "## Problem 15:\n",
        "\n",
        "From the above array print elements 12 and 22"
      ],
      "metadata": {
        "id": "wNfXxivnPnS9"
      }
    },
    {
      "cell_type": "code",
      "source": [],
      "metadata": {
        "id": "Et7HDhtoP3xD"
      },
      "execution_count": null,
      "outputs": []
    },
    {
      "cell_type": "markdown",
      "source": [
        "# Array Manipulation"
      ],
      "metadata": {
        "id": "hEzKaVzVP5f-"
      }
    },
    {
      "cell_type": "markdown",
      "source": [
        "## Problem 16:\n",
        "\n",
        "Transpose a matrix in Numpy (2D array)."
      ],
      "metadata": {
        "id": "AWIT8HMPP9rK"
      }
    },
    {
      "cell_type": "code",
      "source": [],
      "metadata": {
        "id": "89CFIYG7P9MB"
      },
      "execution_count": null,
      "outputs": []
    },
    {
      "cell_type": "markdown",
      "source": [
        "## Problem 17:\n",
        "\n",
        "Flatten a multi-dimensional array to 1D array."
      ],
      "metadata": {
        "id": "7m6HvoMqQLbU"
      }
    },
    {
      "cell_type": "code",
      "source": [],
      "metadata": {
        "id": "SvtUb6gaQWSN"
      },
      "execution_count": null,
      "outputs": []
    },
    {
      "cell_type": "markdown",
      "source": [
        "## Problem 18:\n",
        "\n",
        "Join two 1D arrays horizontally."
      ],
      "metadata": {
        "id": "BjQirBE7QZPT"
      }
    },
    {
      "cell_type": "code",
      "source": [],
      "metadata": {
        "id": "8qQCaiP2Rz-q"
      },
      "execution_count": null,
      "outputs": []
    },
    {
      "cell_type": "markdown",
      "source": [
        "## Problem 19:\n",
        "\n",
        "Join two 2D arrays vertically."
      ],
      "metadata": {
        "id": "qyuc0j1uR0yb"
      }
    },
    {
      "cell_type": "code",
      "source": [],
      "metadata": {
        "id": "O4IsoEbrR5Jy"
      },
      "execution_count": null,
      "outputs": []
    },
    {
      "cell_type": "markdown",
      "source": [
        "## Problem 20:\n",
        "\n",
        "Split an array of shape (2,4) in two equall parts horizontally."
      ],
      "metadata": {
        "id": "GnTCjmPpR5oR"
      }
    },
    {
      "cell_type": "code",
      "source": [],
      "metadata": {
        "id": "1RmCc-zGSN1f"
      },
      "execution_count": null,
      "outputs": []
    }
  ]
}