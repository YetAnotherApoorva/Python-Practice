{
  "nbformat": 4,
  "nbformat_minor": 0,
  "metadata": {
    "colab": {
      "provenance": []
    },
    "kernelspec": {
      "name": "python3",
      "display_name": "Python 3"
    },
    "language_info": {
      "name": "python"
    }
  },
  "cells": [
    {
      "cell_type": "markdown",
      "source": [
        "# Python Basics\n",
        "\n",
        "#### Here are 50 simple Python coding problems, covering the following topics:\n",
        "\n",
        "- Console input and output\n",
        "- Data types — integer, float, string and boolean\n",
        "- Operators\n",
        "- String\n",
        "- Decision Control Structures — if, else and elif\n",
        "- Repetition Control Structures — for and while loops\n",
        "- Data Structures — lists, tuples, sets and dictionaries\n",
        "- Comprehensions\n",
        "- Functions and Recursion\n",
        "- Functional Programming — lambda, map, filter and reduce"
      ],
      "metadata": {
        "id": "49x7C507Ioql"
      }
    },
    {
      "cell_type": "markdown",
      "source": [
        "To revise the above topics refer [this article](https://medium.com/@helloworld.this.is.apoorva/how-to-get-started-with-python-c4a6954224ed)"
      ],
      "metadata": {
        "id": "rUxsVovzQEXx"
      }
    },
    {
      "cell_type": "markdown",
      "source": [
        "### **1. Console Input and Output:**"
      ],
      "metadata": {
        "id": "FO3OhFx7JVId"
      }
    },
    {
      "cell_type": "markdown",
      "source": [
        "Problem 1:\n",
        "```python\n",
        "Write a program that takes a user's name as input and prints a greeting message.\n",
        "\n",
        "Input: Enter your name: Surya\n",
        "Output: Hello Surya. Have a wondeful day.\n",
        "```\n"
      ],
      "metadata": {
        "id": "1qCmhpz3Mrcf"
      }
    },
    {
      "cell_type": "code",
      "source": [
        "name = input(\"Enter your name: \")\n",
        "print(f'Hello {name}. Have a wonderful day')"
      ],
      "metadata": {
        "colab": {
          "base_uri": "https://localhost:8080/"
        },
        "id": "hdM5gqoU8sm4",
        "outputId": "9f3c3f1b-8019-40d9-cb6c-ac48bfffc2e1"
      },
      "execution_count": 1,
      "outputs": [
        {
          "output_type": "stream",
          "name": "stdout",
          "text": [
            "Enter your name: Apoorva\n",
            "Hello Apoorva. Have a wonderful day\n"
          ]
        }
      ]
    },
    {
      "cell_type": "markdown",
      "source": [
        "Problem 2:\n",
        "```python\n",
        "Write a program that takes two numbers as input and prints their sum.\n",
        "\n",
        "Input:\n",
        "Enter fist number: 6\n",
        "Enter second number: 7\n",
        "Output: The sum of 6 and 7 is 13.\n",
        "```"
      ],
      "metadata": {
        "id": "IQhdLercPWm_"
      }
    },
    {
      "cell_type": "code",
      "source": [
        "num1 = int(input('Enter first number: '))\n",
        "num2 = int(input('Enter second number: '))\n",
        "print(f'The sum of {num1} and {num2} is', num1+num2)"
      ],
      "metadata": {
        "colab": {
          "base_uri": "https://localhost:8080/"
        },
        "id": "KAxGl1pt9AF3",
        "outputId": "8d716789-36a1-4f48-ec00-ab8dcffbe2d5"
      },
      "execution_count": 5,
      "outputs": [
        {
          "output_type": "stream",
          "name": "stdout",
          "text": [
            "Enter first number: 2\n",
            "Enter second number: 3\n",
            "The sum of 2 and 3 is 5\n"
          ]
        }
      ]
    },
    {
      "cell_type": "markdown",
      "source": [
        "\n",
        "Problem 3:\n",
        "```python\n",
        "Write a program that takes a sentence as input and prints the number of words in it.\n",
        "\n",
        "Input: Enter sentence: It's a wonderful world\n",
        "Output: Total words = 22\n",
        "```"
      ],
      "metadata": {
        "id": "5LizeLMNPZDt"
      }
    },
    {
      "cell_type": "code",
      "source": [
        "text = input('Enter a sentence: ')\n",
        "print('Total words =', len(text))"
      ],
      "metadata": {
        "colab": {
          "base_uri": "https://localhost:8080/"
        },
        "id": "Uxh-oRdN9hv-",
        "outputId": "ad8332ec-4718-4f2a-f9e1-ed2e98dd30a1"
      },
      "execution_count": 6,
      "outputs": [
        {
          "output_type": "stream",
          "name": "stdout",
          "text": [
            "Enter a sentence: Strawberry\n",
            "Total words = 10\n"
          ]
        }
      ]
    },
    {
      "cell_type": "markdown",
      "source": [
        "Problem 4:\n",
        "```python\n",
        "Write a program that takes a string of 3 numbers separated by commas as input and prints their sum.\n",
        "\n",
        "Input:\n",
        "Enter numbers: 4,5,6\n",
        "Output: Sum = 15\n",
        "```"
      ],
      "metadata": {
        "id": "QNulu2HEXIqg"
      }
    },
    {
      "cell_type": "code",
      "source": [
        "a,b,c = input('Enter numbers: ').split(',')\n",
        "sum = int(a)+int(b)+int(c)\n",
        "print(f'Sum = {sum}')"
      ],
      "metadata": {
        "colab": {
          "base_uri": "https://localhost:8080/"
        },
        "id": "KeF0u2hB97ss",
        "outputId": "bfb244d5-30e4-43ed-c248-f8ac7223eb97"
      },
      "execution_count": 9,
      "outputs": [
        {
          "output_type": "stream",
          "name": "stdout",
          "text": [
            "Enter numbers: 4,6,8\n",
            "Sum = 18\n"
          ]
        }
      ]
    },
    {
      "cell_type": "markdown",
      "source": [
        "Problem 5:\n",
        "```python\n",
        "Write a program that takes two words as input and prints them in reverse order.\n",
        "\n",
        "Input:\n",
        "Enter two words: Good Day\n",
        "Output: Day Good\n",
        "```"
      ],
      "metadata": {
        "id": "0vMXB9bGwqWL"
      }
    },
    {
      "cell_type": "code",
      "source": [
        "w1,w2 = input('Enter two words: ').split()\n",
        "print(w2,w1)"
      ],
      "metadata": {
        "colab": {
          "base_uri": "https://localhost:8080/"
        },
        "id": "orw0MYmU-jgH",
        "outputId": "112781c1-bc41-4c83-e3a3-ea163b511278"
      },
      "execution_count": 10,
      "outputs": [
        {
          "output_type": "stream",
          "name": "stdout",
          "text": [
            "Enter two words: Thank you\n",
            "you Thank\n"
          ]
        }
      ]
    },
    {
      "cell_type": "markdown",
      "source": [
        "###**2. Data Types and Operators:**"
      ],
      "metadata": {
        "id": "JspkEvhC-IJp"
      }
    },
    {
      "cell_type": "markdown",
      "source": [
        "\n",
        "Problem 6:\n",
        "```python\n",
        "Write a program that calculates the area of a rectangle given its length and width.\n",
        "\n",
        "Input:\n",
        "Enter length in cm: 2\n",
        "Enter width in cm: 3\n",
        "Output: Area of the rectangle is 6 cm squared.\n",
        "\n",
        "```"
      ],
      "metadata": {
        "id": "D5thjUJeNnG6"
      }
    },
    {
      "cell_type": "code",
      "source": [
        "l = float(input('Enter length in cm: '))\n",
        "w = float(input('Enter width in cm: '))\n",
        "area = round(l*w,2)\n",
        "print(f'Area of the rectangle is {area} cm squared')"
      ],
      "metadata": {
        "colab": {
          "base_uri": "https://localhost:8080/"
        },
        "id": "qPXcbWcm-0Aq",
        "outputId": "e02309a5-283c-47bb-a0e2-a455c260c32d"
      },
      "execution_count": 13,
      "outputs": [
        {
          "output_type": "stream",
          "name": "stdout",
          "text": [
            "Enter length in cm: 2.2\n",
            "Enter width in cm: 3.1\n",
            "Area of the rectangle is 6.82 cm squared\n"
          ]
        }
      ]
    },
    {
      "cell_type": "markdown",
      "source": [
        "Problem 7:\n",
        "```python\n",
        "Write a program that checks if a given number is even or odd.\n",
        "\n",
        "Input: Enter a number: 4\n",
        "Output: True\n",
        "```"
      ],
      "metadata": {
        "id": "KQG-UEaWP30g"
      }
    },
    {
      "cell_type": "code",
      "source": [
        "num = int(input('Enter a number: '))\n",
        "remainder = num % 2\n",
        "print(remainder == 0)"
      ],
      "metadata": {
        "colab": {
          "base_uri": "https://localhost:8080/"
        },
        "id": "IXLEcafo_tjb",
        "outputId": "038c8d69-52f0-404d-a87d-668c6c47673e"
      },
      "execution_count": 14,
      "outputs": [
        {
          "output_type": "stream",
          "name": "stdout",
          "text": [
            "Enter a number: 5\n",
            "False\n"
          ]
        }
      ]
    },
    {
      "cell_type": "markdown",
      "source": [
        "Problem 8:\n",
        "```python\n",
        "Write a program that calculates the volume of a sphere given its radius.\n",
        "\n",
        "Input:\n",
        "Enter radius in cm: 2\n",
        "Output: Volume = 33.51 cm³\n",
        "\n",
        "Note: Display the volumn with 2 decimal places.\n",
        "```"
      ],
      "metadata": {
        "id": "ZNpxAN12XtU0"
      }
    },
    {
      "cell_type": "code",
      "source": [
        "import math\n",
        "radius = float(input('Enter radius in cm: '))\n",
        "volume = round((4/3)*math.pi*pow(radius, 3),2)\n",
        "print(f'Volume = {volume} cm\\u00b3')"
      ],
      "metadata": {
        "colab": {
          "base_uri": "https://localhost:8080/"
        },
        "id": "cEFDYDJrAoio",
        "outputId": "faee56fa-24a9-45dc-f7c8-2022637f4ca7"
      },
      "execution_count": 17,
      "outputs": [
        {
          "output_type": "stream",
          "name": "stdout",
          "text": [
            "Enter radius in cm: 3.5\n",
            "Volume = 179.59 cm³\n"
          ]
        }
      ]
    },
    {
      "cell_type": "markdown",
      "source": [
        "Problem 9:\n",
        "```python\n",
        "Write a program that converts a temperature in Celsius to Fahrenheit.\n",
        "\n",
        "Input: Enter temperature in degree Celsius: 100\n",
        "Output: 212°F\n",
        "```"
      ],
      "metadata": {
        "id": "uaCXda_GP1cM"
      }
    },
    {
      "cell_type": "code",
      "source": [
        "tempCelsius = float(input('Enter temperature in Celsius: '))\n",
        "tempFahrenheit = (tempCelsius * (9/5)) + 32\n",
        "print(f'{tempFahrenheit}\\u00b0F')"
      ],
      "metadata": {
        "colab": {
          "base_uri": "https://localhost:8080/"
        },
        "id": "hR72anavCGjB",
        "outputId": "c8832453-8b98-4ba9-c273-efcc274d0502"
      },
      "execution_count": 21,
      "outputs": [
        {
          "output_type": "stream",
          "name": "stdout",
          "text": [
            "Enter temperature in Celsius: 37.5\n",
            "99.5°F\n"
          ]
        }
      ]
    },
    {
      "cell_type": "markdown",
      "source": [
        "Problem 10:\n",
        "```python\n",
        "Write a program that checks if a given input is an alphabet or not.\n",
        "\n",
        "Input: Enter a input: 5\n",
        "Output: False.\n",
        "```"
      ],
      "metadata": {
        "id": "x8bBazCoxnno"
      }
    },
    {
      "cell_type": "code",
      "source": [
        "variable = input('Enter a input: ')\n",
        "print(variable.isalpha())"
      ],
      "metadata": {
        "colab": {
          "base_uri": "https://localhost:8080/"
        },
        "id": "n-QncmnEDggF",
        "outputId": "a56a2a3c-bb60-4d35-87dc-812c61945be7"
      },
      "execution_count": 24,
      "outputs": [
        {
          "output_type": "stream",
          "name": "stdout",
          "text": [
            "Enter a input: hello\n",
            "True\n"
          ]
        }
      ]
    },
    {
      "cell_type": "markdown",
      "source": [
        "###**3. Strings:**"
      ],
      "metadata": {
        "id": "SOkGMYYl-MGw"
      }
    },
    {
      "cell_type": "markdown",
      "source": [
        "\n",
        "\n",
        "Problem 11:\n",
        "```python\n",
        "Write a program that counts the number of characters in a given string (excluding spaces).\n",
        "\n",
        "Input:\n",
        "Enter a string: This is going to be the best day of my life.\n",
        "Output: 33\n",
        "```\n"
      ],
      "metadata": {
        "id": "yraHI74oVF53"
      }
    },
    {
      "cell_type": "code",
      "source": [
        "text = input('Enter a string: ')\n",
        "print(len(text.replace(' ', '')))"
      ],
      "metadata": {
        "colab": {
          "base_uri": "https://localhost:8080/"
        },
        "id": "PP18UyqMFOKE",
        "outputId": "0277ec95-ca24-4546-aee9-08d57ec36882"
      },
      "execution_count": 27,
      "outputs": [
        {
          "output_type": "stream",
          "name": "stdout",
          "text": [
            "Enter a string: An apple a day, keeps the doctor away.\n",
            "31\n"
          ]
        }
      ]
    },
    {
      "cell_type": "markdown",
      "source": [
        "Problem 12:\n",
        "```python\n",
        "Write a program that reverses a given string.\n",
        "\n",
        "Input:\n",
        "Enter a string: Ola\n",
        "Output: alO\n",
        "```"
      ],
      "metadata": {
        "id": "9JB4Zjc0Wq7w"
      }
    },
    {
      "cell_type": "code",
      "source": [
        "text = input('Enter a string: ')\n",
        "print(text[::-1])"
      ],
      "metadata": {
        "colab": {
          "base_uri": "https://localhost:8080/"
        },
        "id": "jgzrI_a9F2J6",
        "outputId": "5da905c1-85c7-4ca8-d2f1-ca42d6a06d5c"
      },
      "execution_count": 29,
      "outputs": [
        {
          "output_type": "stream",
          "name": "stdout",
          "text": [
            "Enter a string: Orange\n",
            "egnarO\n"
          ]
        }
      ]
    },
    {
      "cell_type": "markdown",
      "source": [
        "\n",
        "Problem 13:\n",
        "```python\n",
        "Write a program that checks if a given word is a palindrome.\n",
        "\n",
        "Input:\n",
        "Enter a string: Madam\n",
        "Output: Madam is a palindrome\n",
        "```\n"
      ],
      "metadata": {
        "id": "qIH-_m6YWrzb"
      }
    },
    {
      "cell_type": "code",
      "source": [
        "text = input('Enter a string: ').lower()\n",
        "reverse_text = text[::-1]\n",
        "if text == reverse_text:\n",
        "  print(f'{text} is a palindrome')\n",
        "else:\n",
        "  print(f'{text} is not a palindrome')"
      ],
      "metadata": {
        "colab": {
          "base_uri": "https://localhost:8080/"
        },
        "id": "2cw8gEi8GIFO",
        "outputId": "f67c8732-7025-4a80-d14e-fbfd0479eb82"
      },
      "execution_count": 31,
      "outputs": [
        {
          "output_type": "stream",
          "name": "stdout",
          "text": [
            "Enter a string: Malayalam\n",
            "malayalam is a palindrome\n"
          ]
        }
      ]
    },
    {
      "cell_type": "markdown",
      "source": [
        "\n",
        "Problem 14:\n",
        "```python\n",
        "Write a program that counts the occurrences of a specific character in a given string.\n",
        "\n",
        "Input:\n",
        "Enter a string: Madagascar\n",
        "Enter specific character: a\n",
        "Output: Charcater a occures 4 times in Madagascar.\n",
        "```\n"
      ],
      "metadata": {
        "id": "95vcACGgWtOY"
      }
    },
    {
      "cell_type": "code",
      "source": [
        "text = input('Enter a string: ')\n",
        "ch = input('Enter specific character: ')\n",
        "freq = text.count(ch)\n",
        "print(f'Character {ch} occurs {freq} times in {text}')"
      ],
      "metadata": {
        "colab": {
          "base_uri": "https://localhost:8080/"
        },
        "id": "O_ERsH-tGuB8",
        "outputId": "700cf40d-6902-457f-ea8d-883700d6ad91"
      },
      "execution_count": 2,
      "outputs": [
        {
          "output_type": "stream",
          "name": "stdout",
          "text": [
            "Enter a string: tomato\n",
            "Enter specific character: o\n",
            "Character o occurs 2 times in tomato\n"
          ]
        }
      ]
    },
    {
      "cell_type": "markdown",
      "source": [
        "\n",
        "Problem 15:\n",
        "```python\n",
        "Write a program that converts the first letter of each word in a sentence to uppercase.\n",
        "\n",
        "Input:\n",
        "Enter a string: hyper text markup language\n",
        "Output: Hyper Text Markup Language\n",
        "```"
      ],
      "metadata": {
        "id": "Tg5USqUMWuqU"
      }
    },
    {
      "cell_type": "code",
      "source": [
        "text = input('Enter a string: ')\n",
        "print(text.title())\n"
      ],
      "metadata": {
        "colab": {
          "base_uri": "https://localhost:8080/"
        },
        "id": "6-VzHFQ-HsDn",
        "outputId": "11c308a0-23a8-41ff-d457-c23e84e36511"
      },
      "execution_count": 3,
      "outputs": [
        {
          "output_type": "stream",
          "name": "stdout",
          "text": [
            "Enter a string: golden hour\n",
            "Golden Hour\n"
          ]
        }
      ]
    },
    {
      "cell_type": "markdown",
      "source": [
        "###**4. Control Structures:**"
      ],
      "metadata": {
        "id": "IioZ-6cR-P8S"
      }
    },
    {
      "cell_type": "markdown",
      "source": [
        "\n",
        "Problem 16:\n",
        "```python\n",
        "Write a program that checks if a given number is positive, negative, or zero.\n",
        "```\n"
      ],
      "metadata": {
        "id": "vjLjdqDsUtQq"
      }
    },
    {
      "cell_type": "code",
      "source": [
        "num = 23\n",
        "if num > 0:\n",
        "  print('positive')\n",
        "elif num < 0:\n",
        "  print('negative')\n",
        "else:\n",
        "  print('zero')"
      ],
      "metadata": {
        "colab": {
          "base_uri": "https://localhost:8080/"
        },
        "id": "LCJMlKtwIx-g",
        "outputId": "37eb7b80-b6a0-459e-cf66-c1f80dcc48f7"
      },
      "execution_count": 4,
      "outputs": [
        {
          "output_type": "stream",
          "name": "stdout",
          "text": [
            "positive\n"
          ]
        }
      ]
    },
    {
      "cell_type": "markdown",
      "source": [
        "Problem 17:\n",
        "```python\n",
        "Write a program that checks if a given year is a leap year.\n",
        "```"
      ],
      "metadata": {
        "id": "4V5zE24pZ2kK"
      }
    },
    {
      "cell_type": "code",
      "source": [
        "year = 2000\n",
        "\n",
        "# divided by 100 means century year (ending with 00)\n",
        "# century year divided by 400 is leap year\n",
        "if (year % 400 == 0) and (year % 100 == 0):\n",
        "    print(f\"{year} is a leap year\")\n",
        "\n",
        "# not divided by 100 means not a century year\n",
        "# year divided by 4 is a leap year\n",
        "elif (year % 4 ==0) and (year % 100 != 0):\n",
        "    print(f\"{year} is a leap year\")\n",
        "\n",
        "# if not divided by both 400 (century year) and 4 (not century year)\n",
        "# year is not leap year\n",
        "else:\n",
        "    print(f\"{year} is not a leap year\")"
      ],
      "metadata": {
        "colab": {
          "base_uri": "https://localhost:8080/"
        },
        "id": "XG-f4aCMJGMq",
        "outputId": "3c95edd2-a760-45ba-a53d-221c6456539e"
      },
      "execution_count": 5,
      "outputs": [
        {
          "output_type": "stream",
          "name": "stdout",
          "text": [
            "2000 is a leap year\n"
          ]
        }
      ]
    },
    {
      "cell_type": "markdown",
      "source": [
        "\n",
        "Problem 18:\n",
        "```python\n",
        "Write a program that prints the first 10 natural numbers using a while loop.\n",
        "```\n"
      ],
      "metadata": {
        "id": "odQ_yqYcUuRZ"
      }
    },
    {
      "cell_type": "code",
      "source": [
        "c = 1\n",
        "while c<=10:\n",
        "  print(c, end = ' ')\n",
        "  c += 1"
      ],
      "metadata": {
        "colab": {
          "base_uri": "https://localhost:8080/"
        },
        "id": "nIXxm8LjJkTC",
        "outputId": "bda05b96-56a1-49fc-db99-b15183728d35"
      },
      "execution_count": 8,
      "outputs": [
        {
          "output_type": "stream",
          "name": "stdout",
          "text": [
            "1 2 3 4 5 6 7 8 9 10 "
          ]
        }
      ]
    },
    {
      "cell_type": "markdown",
      "source": [
        "Problem 19:\n",
        "```python\n",
        "Write a program that prints the first 20 natural numbers in reverse order using a while loop.\n",
        "```"
      ],
      "metadata": {
        "id": "fkKZSyjwZ46m"
      }
    },
    {
      "cell_type": "code",
      "source": [
        "c = 20\n",
        "while c>0:\n",
        "  print(c, end = ' ')\n",
        "  c -= 1"
      ],
      "metadata": {
        "colab": {
          "base_uri": "https://localhost:8080/"
        },
        "id": "S4zmnqndKJj4",
        "outputId": "f943e41d-834b-4db1-f08d-c18626933cbc"
      },
      "execution_count": 10,
      "outputs": [
        {
          "output_type": "stream",
          "name": "stdout",
          "text": [
            "20 19 18 17 16 15 14 13 12 11 10 9 8 7 6 5 4 3 2 1 "
          ]
        }
      ]
    },
    {
      "cell_type": "markdown",
      "source": [
        "\n",
        "Problem 20:\n",
        "```python\n",
        "Write a program that finds the sum of all even numbers between 1 and 50 using a for loop.\n",
        "```\n"
      ],
      "metadata": {
        "id": "Y6PvLoGbUvZd"
      }
    },
    {
      "cell_type": "code",
      "source": [
        "sum = 0\n",
        "for i in range(1,51):\n",
        "  if i % 2 == 0:\n",
        "    sum = sum + i\n",
        "\n",
        "print(sum)"
      ],
      "metadata": {
        "colab": {
          "base_uri": "https://localhost:8080/"
        },
        "id": "7HxV8LX6KTEX",
        "outputId": "fe44ed9d-e268-4a4c-e58d-cc7810e9184e"
      },
      "execution_count": 12,
      "outputs": [
        {
          "output_type": "stream",
          "name": "stdout",
          "text": [
            "650\n"
          ]
        }
      ]
    },
    {
      "cell_type": "markdown",
      "source": [
        "Problem 21:\n",
        "```python\n",
        "Write a program that finds the product of all odd numbers between 1 and 10 using a for loop.\n",
        "```"
      ],
      "metadata": {
        "id": "2yQY4GZhZ77D"
      }
    },
    {
      "cell_type": "code",
      "source": [
        "product = 1\n",
        "for i in range(1,11):\n",
        "  if i % 2 != 0:\n",
        "    product = product * i\n",
        "\n",
        "print(product)"
      ],
      "metadata": {
        "colab": {
          "base_uri": "https://localhost:8080/"
        },
        "id": "a2szxmQeKlUK",
        "outputId": "9e2b1d5e-6993-44b1-fbe8-af2718baf8ec"
      },
      "execution_count": 15,
      "outputs": [
        {
          "output_type": "stream",
          "name": "stdout",
          "text": [
            "945\n"
          ]
        }
      ]
    },
    {
      "cell_type": "markdown",
      "source": [
        "Problem 22:\n",
        "```python\n",
        "Write a program that checks if a given number is divisible by 5 using conditional expression.\n",
        "```\n"
      ],
      "metadata": {
        "id": "CmIqCTrCyr-k"
      }
    },
    {
      "cell_type": "code",
      "source": [
        "num = 13\n",
        "print('Divisible by 5' if num%5==0 else 'Not divisible by 5')"
      ],
      "metadata": {
        "colab": {
          "base_uri": "https://localhost:8080/"
        },
        "id": "wabnNu3TLAyf",
        "outputId": "e8801564-6c43-4db9-c6af-c8f1ba671a71"
      },
      "execution_count": 17,
      "outputs": [
        {
          "output_type": "stream",
          "name": "stdout",
          "text": [
            "Not divisible by 5\n"
          ]
        }
      ]
    },
    {
      "cell_type": "markdown",
      "source": [
        "###**5. Data Structures: lists, tuples, sets and dictionaries**"
      ],
      "metadata": {
        "id": "_cwXlUhv-TJ9"
      }
    },
    {
      "cell_type": "markdown",
      "source": [
        "\n",
        "Problem 23:\n",
        "```python\n",
        "Write a program that creates a list of numbers and prints the largest number in the list.\n",
        "```\n"
      ],
      "metadata": {
        "id": "fw6Etw5sNu6z"
      }
    },
    {
      "cell_type": "code",
      "source": [
        "lst = [32,54,12,7,87,4,63]\n",
        "print(max(lst))"
      ],
      "metadata": {
        "colab": {
          "base_uri": "https://localhost:8080/"
        },
        "id": "D05Tq1CQLx_8",
        "outputId": "784a5535-f9f0-413c-da8e-97f738893f56"
      },
      "execution_count": 19,
      "outputs": [
        {
          "output_type": "stream",
          "name": "stdout",
          "text": [
            "87\n"
          ]
        }
      ]
    },
    {
      "cell_type": "markdown",
      "source": [
        "Problem 24:\n",
        "```python\n",
        "Write a program that creates a list of names and prints the names in alphabetical order.\n",
        "```"
      ],
      "metadata": {
        "id": "jN_xnKrZZRei"
      }
    },
    {
      "cell_type": "code",
      "source": [
        "lst = ['Surya', 'Chanda', 'Ritu', 'Salil', 'Mahak']\n",
        "print(sorted(lst))"
      ],
      "metadata": {
        "colab": {
          "base_uri": "https://localhost:8080/"
        },
        "id": "S4XOOXLPMO_z",
        "outputId": "02c1d08c-d1ba-4426-9d25-19864aecb8f3"
      },
      "execution_count": 20,
      "outputs": [
        {
          "output_type": "stream",
          "name": "stdout",
          "text": [
            "['Chanda', 'Mahak', 'Ritu', 'Salil', 'Surya']\n"
          ]
        }
      ]
    },
    {
      "cell_type": "markdown",
      "source": [
        "Problem 25:\n",
        "```python\n",
        "Write a program that creates a list of numbers and find the count of a specific number.\n",
        "```"
      ],
      "metadata": {
        "id": "P_Axqwoyz-1T"
      }
    },
    {
      "cell_type": "code",
      "source": [
        "lst = [2, 4, 6, 3, 6, 7, 1, 7, 6, 3, 9]\n",
        "print(lst.count(6))"
      ],
      "metadata": {
        "colab": {
          "base_uri": "https://localhost:8080/"
        },
        "id": "6aCz7pdqMiyl",
        "outputId": "3eff99ac-2ba0-4e91-9fcc-d6d85b099e0a"
      },
      "execution_count": 21,
      "outputs": [
        {
          "output_type": "stream",
          "name": "stdout",
          "text": [
            "3\n"
          ]
        }
      ]
    },
    {
      "cell_type": "markdown",
      "source": [
        "\n",
        "Problem 26:\n",
        "```python\n",
        "Write a program that creates a tuple of fruits and prints the third fruit in the tuple.\n",
        "```\n"
      ],
      "metadata": {
        "id": "NwVED0RnUn0_"
      }
    },
    {
      "cell_type": "code",
      "source": [
        "tup = ('apple', 'orange', 'mango', 'lemon', 'papaya')\n",
        "print(tup[2])"
      ],
      "metadata": {
        "colab": {
          "base_uri": "https://localhost:8080/"
        },
        "id": "y8muxMDKMwOY",
        "outputId": "60c0a49e-d2ac-402f-98d8-f165c086f4a6"
      },
      "execution_count": 22,
      "outputs": [
        {
          "output_type": "stream",
          "name": "stdout",
          "text": [
            "mango\n"
          ]
        }
      ]
    },
    {
      "cell_type": "markdown",
      "source": [
        "Problem 26:\n",
        "```python\n",
        "Write a program that creates a tuple of cities and prints the city with the longest name.\n",
        "```"
      ],
      "metadata": {
        "id": "Ut3xAt5VZS1u"
      }
    },
    {
      "cell_type": "code",
      "source": [
        "cities = ('Delhi', 'Mumbai', 'Tokyo', 'Paris', 'Bengaluru')\n",
        "\n",
        "max_len = -1\n",
        "for city in cities:\n",
        "  if len(city) > max_len:\n",
        "    max_len = len(city)\n",
        "    res = city\n",
        "\n",
        "print(res)"
      ],
      "metadata": {
        "colab": {
          "base_uri": "https://localhost:8080/"
        },
        "id": "jYuy7OpdNG9n",
        "outputId": "16c2bc9f-748e-43c6-f992-dbb0b840b049"
      },
      "execution_count": 26,
      "outputs": [
        {
          "output_type": "stream",
          "name": "stdout",
          "text": [
            "Bengaluru\n"
          ]
        }
      ]
    },
    {
      "cell_type": "markdown",
      "source": [
        "Problem 27:\n",
        "```python\n",
        "Write a program that creates a tuple of names and return the index of a given name.\n",
        "```"
      ],
      "metadata": {
        "id": "lYoqUUyI02Uj"
      }
    },
    {
      "cell_type": "code",
      "source": [
        "tup = ('Kiran', 'Karan', 'Kiya', 'Kriya')\n",
        "tup.index('Kiya')\n"
      ],
      "metadata": {
        "colab": {
          "base_uri": "https://localhost:8080/"
        },
        "id": "wGXOdhadORz_",
        "outputId": "bede190f-88da-4a8a-ff00-a33f9ad7ec96"
      },
      "execution_count": 28,
      "outputs": [
        {
          "output_type": "execute_result",
          "data": {
            "text/plain": [
              "2"
            ]
          },
          "metadata": {},
          "execution_count": 28
        }
      ]
    },
    {
      "cell_type": "markdown",
      "source": [
        "\n",
        "Problem 28:\n",
        "```python\n",
        "Write a program that creates a set of colors and prints the number of unique colors.\n",
        "```\n"
      ],
      "metadata": {
        "id": "v4HOy1cFUp1I"
      }
    },
    {
      "cell_type": "code",
      "source": [
        "colors = {'red', 'green', 'violet', 'red', 'indigo', 'blue', 'green', 'yellow', 'orange'}\n",
        "print(colors)"
      ],
      "metadata": {
        "colab": {
          "base_uri": "https://localhost:8080/"
        },
        "id": "s7R-CL51PFHE",
        "outputId": "a22159b3-0f52-4119-87b4-030192be80e9"
      },
      "execution_count": 32,
      "outputs": [
        {
          "output_type": "stream",
          "name": "stdout",
          "text": [
            "{'orange', 'blue', 'violet', 'green', 'indigo', 'yellow', 'red'}\n"
          ]
        }
      ]
    },
    {
      "cell_type": "markdown",
      "source": [
        "Problem 29:\n",
        "```python\n",
        "Write a program that creates a set of numbers and prints the sum of all even numbers in the set.\n",
        "```\n"
      ],
      "metadata": {
        "id": "pQSZCCHuZVRm"
      }
    },
    {
      "cell_type": "code",
      "source": [
        "nums = {1,2,3,4,5,6,7,8,9,10,9,8,7,6,5,4,3,2,1}\n",
        "for n in nums:\n",
        "  if n % 2 == 0:\n",
        "    print(n, end=' ')"
      ],
      "metadata": {
        "colab": {
          "base_uri": "https://localhost:8080/"
        },
        "id": "QkYNXCuIPk8F",
        "outputId": "8bb7ad39-b492-48d4-966d-3223f26cc7d5"
      },
      "execution_count": 33,
      "outputs": [
        {
          "output_type": "stream",
          "name": "stdout",
          "text": [
            "2 4 6 8 10 "
          ]
        }
      ]
    },
    {
      "cell_type": "markdown",
      "source": [
        "Problem 30:\n",
        "```python\n",
        "Write a program that creates two sets of numbers and prints the common numbers in both sets.\n",
        "```"
      ],
      "metadata": {
        "id": "FTNYCbdW1WuL"
      }
    },
    {
      "cell_type": "code",
      "source": [
        "set1 = {1,23,3,42,5,64,7,9,0,33,55,43}\n",
        "set2 = {42,21,52,64,76,9,40,33,35,4}\n",
        "print(set1 & set2)"
      ],
      "metadata": {
        "colab": {
          "base_uri": "https://localhost:8080/"
        },
        "id": "2h0n1U5WQHBx",
        "outputId": "9368fc50-f834-4c47-fa57-ef8d80033cba"
      },
      "execution_count": 34,
      "outputs": [
        {
          "output_type": "stream",
          "name": "stdout",
          "text": [
            "{64, 33, 42, 9}\n"
          ]
        }
      ]
    },
    {
      "cell_type": "markdown",
      "source": [
        "\n",
        "Problem 31:\n",
        "```python\n",
        "Write a program that creates a dictionary of student names and their ages, and prints the age of a specific student.\n",
        "```\n"
      ],
      "metadata": {
        "id": "06WuaAy4Ur54"
      }
    },
    {
      "cell_type": "code",
      "source": [
        "student = {'Madhur':21, 'Somya':25, 'Abhay':18, 'Khushi':15}\n",
        "print(student['Abhay'])"
      ],
      "metadata": {
        "colab": {
          "base_uri": "https://localhost:8080/"
        },
        "id": "ueJW1sMyQfSz",
        "outputId": "d5c4bbcd-413c-4d3d-cfa5-37c2e9f52849"
      },
      "execution_count": 35,
      "outputs": [
        {
          "output_type": "stream",
          "name": "stdout",
          "text": [
            "18\n"
          ]
        }
      ]
    },
    {
      "cell_type": "markdown",
      "source": [
        "Problem 32:\n",
        "```python\n",
        "Write a program that creates a dictionary of book titles and their authors, and prints the book titles in alphabetical order.\n",
        "```"
      ],
      "metadata": {
        "id": "VU_Jds7nZXuk"
      }
    },
    {
      "cell_type": "code",
      "source": [
        "books = {'War and Peace':'Leo Tolstoy', 'Waste Land':'T.S Eliot', 'Time Machine':'H.G Wells', 'The Tempest':'William Shakespeare'}\n",
        "print(sorted(books))"
      ],
      "metadata": {
        "colab": {
          "base_uri": "https://localhost:8080/"
        },
        "id": "Ub17jgpbQ8qZ",
        "outputId": "9aa0d334-dc54-4fa8-bcc2-45c1a05dd08d"
      },
      "execution_count": 36,
      "outputs": [
        {
          "output_type": "stream",
          "name": "stdout",
          "text": [
            "['The Tempest', 'Time Machine', 'War and Peace', 'Waste Land']\n"
          ]
        }
      ]
    },
    {
      "cell_type": "markdown",
      "source": [
        "Problem 33:\n",
        "```python\n",
        "Write a program that creates a dictionary of Country and their Capital city, and prints all the capitals.\n",
        "```"
      ],
      "metadata": {
        "id": "aSL8yFW92iiY"
      }
    },
    {
      "cell_type": "code",
      "source": [
        "country = {'India':'New Delhi', 'Japan':'Tokyo', 'France':'Paris', 'Bangladesh':'Dhaka'}\n",
        "for capital in country.values():\n",
        "  print(capital)"
      ],
      "metadata": {
        "colab": {
          "base_uri": "https://localhost:8080/"
        },
        "id": "ApB4g5teRfn7",
        "outputId": "a2bb3c7d-e1a5-4cb8-893c-900fff2eb861"
      },
      "execution_count": 40,
      "outputs": [
        {
          "output_type": "stream",
          "name": "stdout",
          "text": [
            "New Delhi\n",
            "Tokyo\n",
            "Paris\n",
            "Dhaka\n"
          ]
        }
      ]
    },
    {
      "cell_type": "markdown",
      "source": [
        "###**6. Comprehensions:**"
      ],
      "metadata": {
        "id": "hrRUiBNH-Xmi"
      }
    },
    {
      "cell_type": "markdown",
      "source": [
        "\n",
        "Problem 34:\n",
        "```python\n",
        "Write a program that creates a list of squares of numbers from 1 to 10 using a list comprehension.\n",
        "```\n"
      ],
      "metadata": {
        "id": "uw_VVzMhUwTA"
      }
    },
    {
      "cell_type": "code",
      "source": [
        "[x*x for x in range(1,11)]"
      ],
      "metadata": {
        "colab": {
          "base_uri": "https://localhost:8080/"
        },
        "id": "mAM7aSexcgQr",
        "outputId": "53d36283-79ce-401b-b5de-d847bae91da7"
      },
      "execution_count": 42,
      "outputs": [
        {
          "output_type": "execute_result",
          "data": {
            "text/plain": [
              "[1, 4, 9, 16, 25, 36, 49, 64, 81, 100]"
            ]
          },
          "metadata": {},
          "execution_count": 42
        }
      ]
    },
    {
      "cell_type": "markdown",
      "source": [
        "Problem 35:\n",
        "```python\n",
        "Write a program that creates a list of even numbers from 1 to 20 using a list comprehension.\n",
        "```"
      ],
      "metadata": {
        "id": "vPVN6UiNa28Z"
      }
    },
    {
      "cell_type": "code",
      "source": [
        "[x for x in range(1, 21) if x%2==0]"
      ],
      "metadata": {
        "colab": {
          "base_uri": "https://localhost:8080/"
        },
        "id": "f2aKW4uQctPm",
        "outputId": "1d27c7ed-5f8d-496e-e334-eb970e569800"
      },
      "execution_count": 43,
      "outputs": [
        {
          "output_type": "execute_result",
          "data": {
            "text/plain": [
              "[2, 4, 6, 8, 10, 12, 14, 16, 18, 20]"
            ]
          },
          "metadata": {},
          "execution_count": 43
        }
      ]
    },
    {
      "cell_type": "markdown",
      "source": [
        "\n",
        "Problem 36:\n",
        "```python\n",
        "Write a program that creates a set of vowels from a given sentence using a set comprehension.\n",
        "```\n"
      ],
      "metadata": {
        "id": "qOdyBNYnUxhA"
      }
    },
    {
      "cell_type": "code",
      "source": [
        "text = 'umberella'\n",
        "{x for x in text if x in 'aeiou'}"
      ],
      "metadata": {
        "colab": {
          "base_uri": "https://localhost:8080/"
        },
        "id": "ukzJ4AVfc0sz",
        "outputId": "52211d04-1e32-47bf-fae0-bf95ff854bad"
      },
      "execution_count": 45,
      "outputs": [
        {
          "output_type": "execute_result",
          "data": {
            "text/plain": [
              "{'a', 'e', 'u'}"
            ]
          },
          "metadata": {},
          "execution_count": 45
        }
      ]
    },
    {
      "cell_type": "markdown",
      "source": [
        "\n",
        "Problem 37:\n",
        "```python\n",
        "Write a program that change the data type (from int to str) of elements of the set using a set comprehension.\n",
        "```\n"
      ],
      "metadata": {
        "id": "DVFkCd8240HE"
      }
    },
    {
      "cell_type": "code",
      "source": [
        "{str(x) for x in {1,2,3,4,5}}"
      ],
      "metadata": {
        "colab": {
          "base_uri": "https://localhost:8080/"
        },
        "id": "KP35NDXGdH7w",
        "outputId": "cf3dd8ec-7f5f-4448-b004-8cdb251e987c"
      },
      "execution_count": 46,
      "outputs": [
        {
          "output_type": "execute_result",
          "data": {
            "text/plain": [
              "{'1', '2', '3', '4', '5'}"
            ]
          },
          "metadata": {},
          "execution_count": 46
        }
      ]
    },
    {
      "cell_type": "markdown",
      "source": [
        "Problem 38:\n",
        "```python\n",
        "Write a program that creates a dictionary with numbers as their key and cubes as their values using dictionary comprehension.\n",
        "```"
      ],
      "metadata": {
        "id": "z1pN03tnfZz-"
      }
    },
    {
      "cell_type": "code",
      "source": [
        "{x:x*x*x for x in [2,3,4]}"
      ],
      "metadata": {
        "colab": {
          "base_uri": "https://localhost:8080/"
        },
        "id": "jbGKRXZkdQbx",
        "outputId": "0e644f6d-9e70-44d5-c3a6-74a226580eba"
      },
      "execution_count": 47,
      "outputs": [
        {
          "output_type": "execute_result",
          "data": {
            "text/plain": [
              "{2: 8, 3: 27, 4: 64}"
            ]
          },
          "metadata": {},
          "execution_count": 47
        }
      ]
    },
    {
      "cell_type": "markdown",
      "source": [
        "Problem 39:\n",
        "```python\n",
        "Write a program that creates a dictionary with students and their marks and select only those which have marks more than 40 using a dictionary comprehension.\n",
        "```"
      ],
      "metadata": {
        "id": "gKGGyeVB3IdD"
      }
    },
    {
      "cell_type": "code",
      "source": [
        "students = {'Kripa':89, 'Kriti':92, 'Kamla':38, 'Kavya':78}\n",
        "{k:v for k,v in students.items() if v >= 40}"
      ],
      "metadata": {
        "colab": {
          "base_uri": "https://localhost:8080/"
        },
        "id": "w47kc9Dedc4k",
        "outputId": "5b0355ee-3ec5-47a9-fd28-7766bbdc99da"
      },
      "execution_count": 53,
      "outputs": [
        {
          "output_type": "execute_result",
          "data": {
            "text/plain": [
              "{'Kripa': 89, 'Kriti': 92, 'Kavya': 78}"
            ]
          },
          "metadata": {},
          "execution_count": 53
        }
      ]
    },
    {
      "cell_type": "markdown",
      "source": [
        "###**7. Functions and Recursion:**"
      ],
      "metadata": {
        "id": "VH5Dfzxc-a7S"
      }
    },
    {
      "cell_type": "markdown",
      "source": [
        "\n",
        "Problem 40:\n",
        "```python\n",
        "Write a function that calculates the greatest common divisor (GCD) of two numbers.\n",
        "```"
      ],
      "metadata": {
        "id": "6GZ3hGq7bDA1"
      }
    },
    {
      "cell_type": "code",
      "source": [
        "def gcd(a, b):\n",
        "\n",
        "    # Find minimum of a and b\n",
        "    result = min(a, b)\n",
        "\n",
        "    while result:\n",
        "        if a % result == 0 and b % result == 0:\n",
        "            break\n",
        "        result -= 1\n",
        "\n",
        "    return result\n",
        "\n",
        "print(gcd(12,14))"
      ],
      "metadata": {
        "colab": {
          "base_uri": "https://localhost:8080/"
        },
        "id": "Qxy90YNdeiNd",
        "outputId": "41bc51f3-b1fa-41a7-e697-71d59e343b5b"
      },
      "execution_count": 54,
      "outputs": [
        {
          "output_type": "stream",
          "name": "stdout",
          "text": [
            "2\n"
          ]
        }
      ]
    },
    {
      "cell_type": "markdown",
      "source": [
        "Problem 41:\n",
        "```python\n",
        "Write a function that generates all prime numbers up to a given limit.\n",
        "```"
      ],
      "metadata": {
        "id": "DI03InRBbGqS"
      }
    },
    {
      "cell_type": "code",
      "source": [
        "def isPrime(n):\n",
        "  #since 0 and 1 is not prime return false.\n",
        "  if(n==1 or n==0):\n",
        "    return False\n",
        "\n",
        "  #Run a loop from 2 to n-1\n",
        "  for i in range(2,n):\n",
        "    #if the number is divisible by i, then n is not a prime number.\n",
        "    if(n%i==0):\n",
        "      return False\n",
        "\n",
        "  #otherwise, n is prime number.\n",
        "  return True\n",
        "\n",
        "def generatePrime(limit):\n",
        "  for i in range(limit+1):\n",
        "    if isPrime(i):\n",
        "      print(i)\n",
        "\n",
        "generatePrime(10)"
      ],
      "metadata": {
        "colab": {
          "base_uri": "https://localhost:8080/"
        },
        "id": "4ZO9ErrYfm_E",
        "outputId": "a625b71b-6fd7-4669-d365-cd5d0e771504"
      },
      "execution_count": 55,
      "outputs": [
        {
          "output_type": "stream",
          "name": "stdout",
          "text": [
            "2\n",
            "3\n",
            "5\n",
            "7\n"
          ]
        }
      ]
    },
    {
      "cell_type": "markdown",
      "source": [
        "\n",
        "Problem 42:\n",
        "```python\n",
        "Write a function that checks if a given string is a palindrome.\n",
        "```\n"
      ],
      "metadata": {
        "id": "PpTsOqkqU2_J"
      }
    },
    {
      "cell_type": "code",
      "source": [
        "def isPalindrome(s):\n",
        "  left = 0\n",
        "  right = len(s)-1\n",
        "  while right>left:\n",
        "    if s[left] != s[right]:\n",
        "      return False\n",
        "    left+=1\n",
        "    right-=1\n",
        "\n",
        "  return True\n",
        "\n",
        "print(isPalindrome('Hello'))"
      ],
      "metadata": {
        "colab": {
          "base_uri": "https://localhost:8080/"
        },
        "id": "Mb2nAjDVg_ln",
        "outputId": "01d6cb98-ba2e-4512-9312-cbd744b14554"
      },
      "execution_count": 56,
      "outputs": [
        {
          "output_type": "stream",
          "name": "stdout",
          "text": [
            "False\n"
          ]
        }
      ]
    },
    {
      "cell_type": "markdown",
      "source": [
        "Problem 43:\n",
        "```python\n",
        "Write a function that calculates the factorial of a given number using recursion.\n",
        "```\n"
      ],
      "metadata": {
        "id": "uFMEQjTTU1Q4"
      }
    },
    {
      "cell_type": "code",
      "source": [
        "def calFactorial(n):\n",
        "  if n == 1:\n",
        "    return n\n",
        "  else:\n",
        "    return n*calFactorial(n-1)\n",
        "\n",
        "print(calFactorial(5))"
      ],
      "metadata": {
        "colab": {
          "base_uri": "https://localhost:8080/"
        },
        "id": "IIH1Lk_Jhs7b",
        "outputId": "e6f39180-77d2-49b5-9a45-e001b6b5903e"
      },
      "execution_count": 57,
      "outputs": [
        {
          "output_type": "stream",
          "name": "stdout",
          "text": [
            "120\n"
          ]
        }
      ]
    },
    {
      "cell_type": "markdown",
      "source": [
        "\n",
        "Problem 44:\n",
        "```python\n",
        "Write a program that uses a recursive function to calculate the Fibonacci sequence.\n",
        "```"
      ],
      "metadata": {
        "id": "hsei1JFDU4EH"
      }
    },
    {
      "cell_type": "code",
      "source": [
        "def Fibonacci(n):\n",
        "  if n<=1:\n",
        "    return n\n",
        "  else:\n",
        "    return Fibonacci(n-1)+Fibonacci(n-2)\n",
        "\n",
        "n=10\n",
        "for i in range(n):\n",
        "  print(Fibonacci(i))"
      ],
      "metadata": {
        "colab": {
          "base_uri": "https://localhost:8080/"
        },
        "id": "x4mjnA-ViTqm",
        "outputId": "8f1a2882-dc12-4d9d-ec16-ea9ba2b1b871"
      },
      "execution_count": 59,
      "outputs": [
        {
          "output_type": "stream",
          "name": "stdout",
          "text": [
            "0\n",
            "1\n",
            "1\n",
            "2\n",
            "3\n",
            "5\n",
            "8\n",
            "13\n",
            "21\n",
            "34\n"
          ]
        }
      ]
    },
    {
      "cell_type": "markdown",
      "source": [
        "###**8. Lambda, Map, Filter, Reduce:**"
      ],
      "metadata": {
        "id": "HoU5fCHQ-dpl"
      }
    },
    {
      "cell_type": "markdown",
      "source": [
        "\n",
        "\n",
        "Problem 45:\n",
        "```python\n",
        "Write a program that squares all the elements in a list using map and lambda.\n",
        "```\n"
      ],
      "metadata": {
        "id": "muVQrAwSUyfU"
      }
    },
    {
      "cell_type": "code",
      "source": [
        "print(list(map(lambda x:x*x, [1,2,3,4,5])))"
      ],
      "metadata": {
        "colab": {
          "base_uri": "https://localhost:8080/"
        },
        "id": "r2kQVMm8jZRv",
        "outputId": "0e5a33bf-93b4-4af8-f66e-36f03b0d1a5d"
      },
      "execution_count": 61,
      "outputs": [
        {
          "output_type": "stream",
          "name": "stdout",
          "text": [
            "[1, 4, 9, 16, 25]\n"
          ]
        }
      ]
    },
    {
      "cell_type": "markdown",
      "source": [
        "Problem 46:\n",
        "```python\n",
        "Write a program that calculates the square root of each element in a list using map and lambda.\n",
        "```"
      ],
      "metadata": {
        "id": "_7huCNjbcI-N"
      }
    },
    {
      "cell_type": "code",
      "source": [
        "import math\n",
        "print(list(map(lambda x:math.sqrt(x), [1,4,9])))\n"
      ],
      "metadata": {
        "colab": {
          "base_uri": "https://localhost:8080/"
        },
        "id": "KPXKh5XQjlyM",
        "outputId": "2f18a56b-d14a-48e2-b7b4-b0ff5b23b091"
      },
      "execution_count": 65,
      "outputs": [
        {
          "output_type": "stream",
          "name": "stdout",
          "text": [
            "[1.0, 2.0, 3.0]\n"
          ]
        }
      ]
    },
    {
      "cell_type": "markdown",
      "source": [
        "\n",
        "Problem 47:\n",
        "```python\n",
        "Write a program that filters out even numbers from a list using filter and lambda.\n",
        "```\n"
      ],
      "metadata": {
        "id": "isY45ApOUzj2"
      }
    },
    {
      "cell_type": "code",
      "source": [
        "print(list(filter(lambda x:x%2==0, [1,2,3,4,5])))"
      ],
      "metadata": {
        "colab": {
          "base_uri": "https://localhost:8080/"
        },
        "id": "mn0QDlqMj4hr",
        "outputId": "2cbf6604-8130-418f-fe6c-e66380a76427"
      },
      "execution_count": 66,
      "outputs": [
        {
          "output_type": "stream",
          "name": "stdout",
          "text": [
            "[2, 4]\n"
          ]
        }
      ]
    },
    {
      "cell_type": "markdown",
      "source": [
        "Problem 48:\n",
        "```python\n",
        "Write a program that filters out words with less than 5 characters from a list of words using filter and lambda.\n",
        "```"
      ],
      "metadata": {
        "id": "BerBsKMDcL7o"
      }
    },
    {
      "cell_type": "code",
      "source": [
        "print(list(filter(lambda w:len(w)>5, ['rose', 'tulip', 'lily', 'sunflower'])))"
      ],
      "metadata": {
        "colab": {
          "base_uri": "https://localhost:8080/"
        },
        "id": "rty2QnYTkEYG",
        "outputId": "a3628fa2-1dad-4232-9bec-f8dba973bce4"
      },
      "execution_count": 67,
      "outputs": [
        {
          "output_type": "stream",
          "name": "stdout",
          "text": [
            "['sunflower']\n"
          ]
        }
      ]
    },
    {
      "cell_type": "markdown",
      "source": [
        "\n",
        "Problem 49:\n",
        "```python\n",
        "Write a program that finds the product of all elements in a list using reduce and lambda.\n",
        "```\n"
      ],
      "metadata": {
        "id": "nIiaijnJU0bX"
      }
    },
    {
      "cell_type": "code",
      "source": [
        "from functools import reduce\n",
        "print(reduce(lambda a,b: a*b, [1,2,3,4,5]))"
      ],
      "metadata": {
        "colab": {
          "base_uri": "https://localhost:8080/"
        },
        "id": "nOk5TzUHkbFQ",
        "outputId": "c55237a7-fe83-44ee-e169-4b072bc8b521"
      },
      "execution_count": 70,
      "outputs": [
        {
          "output_type": "stream",
          "name": "stdout",
          "text": [
            "120\n"
          ]
        }
      ]
    },
    {
      "cell_type": "markdown",
      "source": [
        "Problem 50:\n",
        "```python\n",
        "Write a program that finds the maximum element in a list using reduce and lambda.\n",
        "\n",
        "```"
      ],
      "metadata": {
        "id": "6_2BQuf6cQ9z"
      }
    },
    {
      "cell_type": "code",
      "source": [
        "from functools import reduce\n",
        "print(reduce(lambda a,b: a if a>b else b, [1,2,5,3,4]))"
      ],
      "metadata": {
        "colab": {
          "base_uri": "https://localhost:8080/"
        },
        "id": "s1jSWTwLlOaJ",
        "outputId": "9152eec9-7e59-4d79-8c36-b092d71eb5f5"
      },
      "execution_count": 72,
      "outputs": [
        {
          "output_type": "stream",
          "name": "stdout",
          "text": [
            "5\n"
          ]
        }
      ]
    }
  ]
}